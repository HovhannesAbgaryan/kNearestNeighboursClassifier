{
 "cells": [
  {
   "cell_type": "code",
   "execution_count": 1,
   "id": "initial_id",
   "metadata": {
    "collapsed": true,
    "ExecuteTime": {
     "end_time": "2023-10-02T18:10:51.278777600Z",
     "start_time": "2023-10-02T18:10:48.840077900Z"
    }
   },
   "outputs": [],
   "source": [
    "import pandas as pd\n",
    "import matplotlib.pyplot as plt\n",
    "plt.style.use('seaborn-v0_8-whitegrid') # Plot style\n",
    "\n",
    "%load_ext autoreload\n",
    "%autoreload 2"
   ]
  },
  {
   "cell_type": "markdown",
   "source": [
    "Custom kNN algorithm implementation using `car.csv` dataset from [Kaggle](https://www.kaggle.com/elikplim/car-evaluation-data-set)."
   ],
   "metadata": {
    "collapsed": false
   },
   "id": "321c520515d53743"
  },
  {
   "cell_type": "code",
   "execution_count": 2,
   "outputs": [
    {
     "name": "stdout",
     "output_type": "stream",
     "text": [
      "(1728, 7)\n"
     ]
    },
    {
     "data": {
      "text/plain": "  buying  maint doors persons lug-boot safety accept\n0  vhigh  vhigh     2       2    small    low  unacc\n1  vhigh  vhigh     2       2    small    med  unacc\n2  vhigh  vhigh     2       2    small   high  unacc\n3  vhigh  vhigh     2       2      med    low  unacc\n4  vhigh  vhigh     2       2      med    med  unacc",
      "text/html": "<div>\n<style scoped>\n    .dataframe tbody tr th:only-of-type {\n        vertical-align: middle;\n    }\n\n    .dataframe tbody tr th {\n        vertical-align: top;\n    }\n\n    .dataframe thead th {\n        text-align: right;\n    }\n</style>\n<table border=\"1\" class=\"dataframe\">\n  <thead>\n    <tr style=\"text-align: right;\">\n      <th></th>\n      <th>buying</th>\n      <th>maint</th>\n      <th>doors</th>\n      <th>persons</th>\n      <th>lug-boot</th>\n      <th>safety</th>\n      <th>accept</th>\n    </tr>\n  </thead>\n  <tbody>\n    <tr>\n      <th>0</th>\n      <td>vhigh</td>\n      <td>vhigh</td>\n      <td>2</td>\n      <td>2</td>\n      <td>small</td>\n      <td>low</td>\n      <td>unacc</td>\n    </tr>\n    <tr>\n      <th>1</th>\n      <td>vhigh</td>\n      <td>vhigh</td>\n      <td>2</td>\n      <td>2</td>\n      <td>small</td>\n      <td>med</td>\n      <td>unacc</td>\n    </tr>\n    <tr>\n      <th>2</th>\n      <td>vhigh</td>\n      <td>vhigh</td>\n      <td>2</td>\n      <td>2</td>\n      <td>small</td>\n      <td>high</td>\n      <td>unacc</td>\n    </tr>\n    <tr>\n      <th>3</th>\n      <td>vhigh</td>\n      <td>vhigh</td>\n      <td>2</td>\n      <td>2</td>\n      <td>med</td>\n      <td>low</td>\n      <td>unacc</td>\n    </tr>\n    <tr>\n      <th>4</th>\n      <td>vhigh</td>\n      <td>vhigh</td>\n      <td>2</td>\n      <td>2</td>\n      <td>med</td>\n      <td>med</td>\n      <td>unacc</td>\n    </tr>\n  </tbody>\n</table>\n</div>"
     },
     "execution_count": 2,
     "metadata": {},
     "output_type": "execute_result"
    }
   ],
   "source": [
    "data = pd.read_csv(\"data/raw/car.csv\", dtype = \"category\", header = None)\n",
    "data.columns = [\"buying\", \"maint\", \"doors\", \"persons\", \"lug-boot\", \"safety\", \"accept\"]\n",
    "\n",
    "print(data.shape)\n",
    "data.head()"
   ],
   "metadata": {
    "collapsed": false,
    "ExecuteTime": {
     "end_time": "2023-10-02T18:10:51.522126400Z",
     "start_time": "2023-10-02T18:10:51.281769600Z"
    }
   },
   "id": "d0b7052faa159f0"
  },
  {
   "cell_type": "markdown",
   "source": [
    "Use the `train_test_split` method (use the documentation) to divide the data into 75% training and 25% testing data. Use parameter random_state = 0 to set the same random seed and ensure that we all get the same results."
   ],
   "metadata": {
    "collapsed": false
   },
   "id": "95696c80244b497b"
  },
  {
   "cell_type": "code",
   "execution_count": 3,
   "outputs": [
    {
     "name": "stdout",
     "output_type": "stream",
     "text": [
      "(1296, 6) (432, 6) (1296,) (432,)\n"
     ]
    }
   ],
   "source": [
    "from sklearn.model_selection import train_test_split\n",
    "\n",
    "X_train, X_test, y_train, y_test = train_test_split(data.iloc[:,:-1], data['accept'], test_size = 0.25, random_state = 0)\n",
    "print(X_train.shape, X_test.shape, y_train.shape, y_test.shape)"
   ],
   "metadata": {
    "collapsed": false,
    "ExecuteTime": {
     "end_time": "2023-10-02T18:10:54.323074900Z",
     "start_time": "2023-10-02T18:10:51.499187600Z"
    }
   },
   "id": "b081da12fa0814a7"
  },
  {
   "cell_type": "code",
   "execution_count": 4,
   "outputs": [
    {
     "data": {
      "text/plain": "accept\nunacc    1210\nacc       384\ngood       69\nvgood      65\nName: count, dtype: int64"
     },
     "execution_count": 4,
     "metadata": {},
     "output_type": "execute_result"
    }
   ],
   "source": [
    "#View value counts for each category (class) of labels (classes)\n",
    "data.accept.value_counts()"
   ],
   "metadata": {
    "collapsed": false,
    "ExecuteTime": {
     "end_time": "2023-10-02T18:10:54.637476400Z",
     "start_time": "2023-10-02T18:10:54.330065900Z"
    }
   },
   "id": "cec509e0b62875"
  },
  {
   "cell_type": "code",
   "execution_count": 5,
   "outputs": [],
   "source": [
    "def accuracy(actual, predicted):\n",
    "  return sum(actual == predicted) / len(predicted)"
   ],
   "metadata": {
    "collapsed": false,
    "ExecuteTime": {
     "end_time": "2023-10-02T18:10:54.861193700Z",
     "start_time": "2023-10-02T18:10:54.632417800Z"
    }
   },
   "id": "885b7d758d313722"
  },
  {
   "cell_type": "code",
   "execution_count": 6,
   "outputs": [
    {
     "data": {
      "text/plain": "0.7546296296296297"
     },
     "execution_count": 6,
     "metadata": {},
     "output_type": "execute_result"
    }
   ],
   "source": [
    "from src.knn import KNearestNeighbour\n",
    "\n",
    "model = KNearestNeighbour(X_train, y_train)\n",
    "predictions = model.fit_predict(X_test, k = 1)\n",
    "accuracy(y_test, predictions)"
   ],
   "metadata": {
    "collapsed": false,
    "ExecuteTime": {
     "end_time": "2023-10-02T18:10:57.325552Z",
     "start_time": "2023-10-02T18:10:54.865247Z"
    }
   },
   "id": "342ff8c0807dc86a"
  },
  {
   "cell_type": "markdown",
   "source": [
    "Now try different values for k, for example $(1,3,...,19)$ and plot the resulting accuracies (on y-axis) with respect to the values of $k$ (on x-axis)."
   ],
   "metadata": {
    "collapsed": false
   },
   "id": "dc182725e9a7fe02"
  },
  {
   "cell_type": "code",
   "execution_count": 7,
   "outputs": [
    {
     "data": {
      "text/plain": "Text(0, 0.5, 'accuracy')"
     },
     "execution_count": 7,
     "metadata": {},
     "output_type": "execute_result"
    },
    {
     "data": {
      "text/plain": "<Figure size 640x480 with 1 Axes>",
      "image/png": "[encoded data removed]"
     },
     "metadata": {},
     "output_type": "display_data"
    }
   ],
   "source": [
    "accuracies = []\n",
    "k_values = range(1, 20, 2)\n",
    "for k in k_values:\n",
    "  model = KNearestNeighbour(X_train, y_train)\n",
    "  predictions = model.fit_predict(X_test, k=k)\n",
    "  accuracies.append(accuracy(y_test, predictions))\n",
    "  \n",
    "plt.plot(k_values, accuracies)\n",
    "plt.title('Accuracy VS Number of Neighbours')\n",
    "plt.xlabel('k')\n",
    "plt.xticks(range(1, 20, 2))\n",
    "plt.ylabel('accuracy')"
   ],
   "metadata": {
    "collapsed": false,
    "ExecuteTime": {
     "end_time": "2023-10-02T18:11:17.536598100Z",
     "start_time": "2023-10-02T18:10:57.328544800Z"
    }
   },
   "id": "5c6d7c0ef8f0170a"
  },
  {
   "cell_type": "markdown",
   "source": [
    "## Comparing with `scikit-learn`'s implementation"
   ],
   "metadata": {
    "collapsed": false
   },
   "id": "2cc94c8ded680c55"
  },
  {
   "cell_type": "markdown",
   "source": [
    "For `sklearn`'s implementation the data should be converted to numeric."
   ],
   "metadata": {
    "collapsed": false
   },
   "id": "7c0bf94542e44d0d"
  },
  {
   "cell_type": "code",
   "execution_count": 8,
   "outputs": [],
   "source": [
    "from sklearn.preprocessing import OrdinalEncoder\n",
    "enc = OrdinalEncoder()\n",
    "data1 = enc.fit_transform(data)"
   ],
   "metadata": {
    "collapsed": false,
    "ExecuteTime": {
     "end_time": "2023-10-02T18:11:18.299463200Z",
     "start_time": "2023-10-02T18:11:17.524630700Z"
    }
   },
   "id": "9a7bc39feea233ee"
  },
  {
   "cell_type": "code",
   "execution_count": 9,
   "outputs": [],
   "source": [
    "X_train1, X_test1, y_train1, y_test1 = train_test_split(data1[:, :-1], data1[:, -1], test_size=0.25, random_state=0)"
   ],
   "metadata": {
    "collapsed": false,
    "ExecuteTime": {
     "end_time": "2023-10-02T18:11:18.464577300Z",
     "start_time": "2023-10-02T18:11:18.293479100Z"
    }
   },
   "id": "cad8a9db3ddeffc3"
  },
  {
   "cell_type": "code",
   "execution_count": 10,
   "outputs": [
    {
     "data": {
      "text/plain": "0.7777777777777778"
     },
     "execution_count": 10,
     "metadata": {},
     "output_type": "execute_result"
    }
   ],
   "source": [
    "from sklearn.neighbors import KNeighborsClassifier\n",
    "\n",
    "model1 = KNeighborsClassifier(n_neighbors=1, metric='hamming')\n",
    "model1.fit(X_train1, y_train1)\n",
    "predictions1 = model1.predict(X_test1)\n",
    "accuracy(y_test1, predictions1)"
   ],
   "metadata": {
    "collapsed": false,
    "ExecuteTime": {
     "end_time": "2023-10-02T18:11:18.999577100Z",
     "start_time": "2023-10-02T18:11:18.468567800Z"
    }
   },
   "id": "5ecabfb6dfb5453f"
  },
  {
   "cell_type": "markdown",
   "source": [],
   "metadata": {
    "collapsed": false
   },
   "id": "39676a41c2af5c9c"
  },
  {
   "cell_type": "markdown",
   "source": [
    "Sklearn's implementation is different because it uses optimized algorithms and [tree data-structures](https://www.geeksforgeeks.org/k-dimensional-tree/) (read more about those approaches [here](https://scikit-learn.org/stable/modules/neighbors.html#nearest-neighbor-algorithms)). We can still reproduce our result by setting the `algorithm` parameter to `brute`, which stands for the *brute-force* method."
   ],
   "metadata": {
    "collapsed": false
   },
   "id": "4a253478a6de013f"
  },
  {
   "cell_type": "code",
   "execution_count": 11,
   "outputs": [
    {
     "data": {
      "text/plain": "0.7546296296296297"
     },
     "execution_count": 11,
     "metadata": {},
     "output_type": "execute_result"
    }
   ],
   "source": [
    "model2 = KNeighborsClassifier(n_neighbors=1, metric='hamming', algorithm='brute')\n",
    "model2.fit(X_train1, y_train1)\n",
    "predictions2 = model2.predict(X_test1)\n",
    "accuracy(y_test1, predictions2)"
   ],
   "metadata": {
    "collapsed": false,
    "ExecuteTime": {
     "end_time": "2023-10-02T18:17:03.409465700Z",
     "start_time": "2023-10-02T18:17:01.853246200Z"
    }
   },
   "id": "758e6f21901ee21b"
  }
 ],
 "metadata": {
  "kernelspec": {
   "display_name": "Python 3",
   "language": "python",
   "name": "python3"
  },
  "language_info": {
   "codemirror_mode": {
    "name": "ipython",
    "version": 2
   },
   "file_extension": ".py",
   "mimetype": "text/x-python",
   "name": "python",
   "nbconvert_exporter": "python",
   "pygments_lexer": "ipython2",
   "version": "2.7.6"
  }
 },
 "nbformat": 4,
 "nbformat_minor": 5
}
